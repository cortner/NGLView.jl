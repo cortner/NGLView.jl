{
 "cells": [
  {
   "cell_type": "markdown",
   "metadata": {},
   "source": [
    "# nglview demo\n",
    "\n",
    "This notebook requires nglview, from https://github.com/arose/nglview/. Commands below should be sufficient to install it:\n",
    "\n",
    "```\n",
    "pip install nglview\n",
    "jupyter-nbextension enable nglview --py --sys-prefix\n",
    "```\n",
    "\n",
    "The demoe below includes my patches to ASE from https://gitlab.com/ase/ase/merge_requests/646. This is oonly needed for colouring Atoms, and should hopefully be merged soon"
   ]
  },
  {
   "cell_type": "code",
   "execution_count": null,
   "metadata": {},
   "outputs": [],
   "source": [
    "import sys\n",
    "sys.path.insert(0, '/machome/gits/ase/')\n",
    "\n",
    "import numpy as np\n",
    "from ase.build import bulk\n",
    "import nglview as nv"
   ]
  },
  {
   "cell_type": "code",
   "execution_count": null,
   "metadata": {},
   "outputs": [],
   "source": [
    "ws = []\n",
    "for i in range(10):\n",
    "    w = bulk('W', cubic=True) * (4, 4, 4)\n",
    "    w.rattle(0.2, seed=i)\n",
    "    w.set_array('bfactor', np.random.uniform(-1, 1, size=len(w)))\n",
    "    ws.append(w)"
   ]
  },
  {
   "cell_type": "markdown",
   "metadata": {},
   "source": [
    "## Single configuration\n",
    "\n",
    "Visualise a configuration, and add a spacefill representation in addition to the default ball-and-stick model. The name is `bfactor` is not arbitrary: it is an additional column in the `.pdb` file format used by `nglview`. "
   ]
  },
  {
   "cell_type": "code",
   "execution_count": null,
   "metadata": {},
   "outputs": [],
   "source": [
    "v = nv.show_ase(ws[0])\n",
    "v.add_spacefill(color_scheme='bfactor', color_scale='rainbow', radiusType='covalent', scale=0.33)\n",
    "v"
   ]
  },
  {
   "cell_type": "markdown",
   "metadata": {},
   "source": [
    "## Trajectory\n",
    "\n",
    "Visualise a trajectory. Custom colouring doesn't yet work with multiple frames."
   ]
  },
  {
   "cell_type": "code",
   "execution_count": null,
   "metadata": {},
   "outputs": [],
   "source": [
    "nv.show_asetraj(ws)"
   ]
  },
  {
   "cell_type": "code",
   "execution_count": null,
   "metadata": {},
   "outputs": [],
   "source": []
  },
  {
   "cell_type": "code",
   "execution_count": null,
   "metadata": {},
   "outputs": [],
   "source": []
  },
  {
   "cell_type": "code",
   "execution_count": null,
   "metadata": {},
   "outputs": [],
   "source": [
    "import nglview as nv\n",
    "view = nv.show_pdbid(\"1l2y\")\n",
    "view"
   ]
  },
  {
   "cell_type": "code",
   "execution_count": null,
   "metadata": {},
   "outputs": [],
   "source": []
  }
 ],
 "metadata": {
  "kernelspec": {
   "display_name": "Python 2",
   "language": "python",
   "name": "python2"
  },
  "language_info": {
   "codemirror_mode": {
    "name": "ipython",
    "version": 2
   },
   "file_extension": ".py",
   "mimetype": "text/x-python",
   "name": "python",
   "nbconvert_exporter": "python",
   "pygments_lexer": "ipython2",
   "version": "2.7.13"
  }
 },
 "nbformat": 4,
 "nbformat_minor": 2
}
